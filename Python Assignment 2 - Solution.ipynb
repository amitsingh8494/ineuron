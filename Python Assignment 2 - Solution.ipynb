{
 "cells": [
  {
   "cell_type": "code",
   "execution_count": 1,
   "metadata": {},
   "outputs": [
    {
     "name": "stdout",
     "output_type": "stream",
     "text": [
      "*\n",
      "* *\n",
      "* * *\n",
      "* * * *\n",
      "* * * * *\n",
      "* * * *\n",
      "* * *\n",
      "* *\n",
      "*\n"
     ]
    }
   ],
   "source": [
    "#Problem Statement 1\n",
    "x=[]\n",
    "j=0\n",
    "for i in range(5):\n",
    "    if i<=j:\n",
    "        x.append(\"*\")\n",
    "        a=\" \".join(x)\n",
    "        print(a)\n",
    "        j=j+1\n",
    "j=6\n",
    "i=0\n",
    "for i in range(4):\n",
    "    if i<=j:\n",
    "        x.remove(\"*\")\n",
    "        a=\" \".join(x)\n",
    "        print(a)\n",
    "        j=j-1\n"
   ]
  },
  {
   "cell_type": "code",
   "execution_count": 2,
   "metadata": {},
   "outputs": [
    {
     "name": "stdout",
     "output_type": "stream",
     "text": [
      "Please nter a string : INEURON\n",
      "Your entered string is : INEURON \n",
      "Revered string is NORUENI : \n"
     ]
    }
   ],
   "source": [
    "#Problem Statement 2\n",
    "user_input = input(\"Please nter a string : \")\n",
    "print(\"Your entered string is : {} \\nRevered string is {} : \".format(user_input,user_input[::-1]))"
   ]
  },
  {
   "cell_type": "code",
   "execution_count": null,
   "metadata": {},
   "outputs": [],
   "source": []
  },
  {
   "cell_type": "code",
   "execution_count": null,
   "metadata": {},
   "outputs": [],
   "source": []
  },
  {
   "cell_type": "code",
   "execution_count": null,
   "metadata": {},
   "outputs": [],
   "source": []
  }
 ],
 "metadata": {
  "kernelspec": {
   "display_name": "Python 3",
   "language": "python",
   "name": "python3"
  },
  "language_info": {
   "codemirror_mode": {
    "name": "ipython",
    "version": 3
   },
   "file_extension": ".py",
   "mimetype": "text/x-python",
   "name": "python",
   "nbconvert_exporter": "python",
   "pygments_lexer": "ipython3",
   "version": "3.7.3"
  }
 },
 "nbformat": 4,
 "nbformat_minor": 2
}
